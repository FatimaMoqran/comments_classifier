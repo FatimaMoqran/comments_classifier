{
 "cells": [
  {
   "cell_type": "code",
   "execution_count": 1,
   "metadata": {},
   "outputs": [],
   "source": [
    "import pandas as pd"
   ]
  },
  {
   "cell_type": "code",
   "execution_count": 61,
   "metadata": {
    "scrolled": true
   },
   "outputs": [],
   "source": [
    "df = pd.read_csv('data/labeled_comments.csv', index_col = 1)"
   ]
  },
  {
   "cell_type": "code",
   "execution_count": 62,
   "metadata": {},
   "outputs": [],
   "source": [
    "df.drop(['Unnamed: 0'], axis = 1, inplace = True)"
   ]
  },
  {
   "cell_type": "code",
   "execution_count": 63,
   "metadata": {},
   "outputs": [],
   "source": [
    "df.dropna(inplace=True)"
   ]
  },
  {
   "cell_type": "code",
   "execution_count": 64,
   "metadata": {},
   "outputs": [],
   "source": [
    "df.drop(['relation commerciale','accueil'], inplace=True)\n",
    "df.columns = ['label', 'review']"
   ]
  },
  {
   "cell_type": "markdown",
   "metadata": {},
   "source": [
    "## Data cleaning"
   ]
  },
  {
   "cell_type": "code",
   "execution_count": 65,
   "metadata": {},
   "outputs": [],
   "source": [
    "di  = {'temps d''attente' : \"temps d'attente\",\n",
    "       \"temps d' attente\" : \"temps d'attente\",\n",
    "       \"temps d'attente n\" : \"temps d'attente\",\n",
    "       \" temps attente\" : \"temps d'attente\",\n",
    "       \"'temps d''attente'\" : \"temps d'attente\",\n",
    "       \"temps d’attente\" : \"temps d'attente\",\n",
    "       \"temps d'attente \" : \"temps d'attente\",\n",
    "       \"temps-attente\" : \"temps d'attente\",\n",
    "       \"temps d'attentes\" : \"temps d'attente\",\n",
    "       \"relation commerciale\" : \"relation commercial\",\n",
    "       \"relation-commerciale\" : \"relation commercial\",\n",
    "       \" relation commerciale\" : \"relation commercial\",\n",
    "       \"relation commerciale \" : \"relation commercial\",\n",
    "       \"emotion\" : \"émotion\",\n",
    "       \"emotion \": \"émotion\",\n",
    "       \"emotion/ressenti\" : \"émotion\",                         \n",
    "       \"emotion / ressenti\" : \"émotion\",\n",
    "       \"emotion-ressenti\" : \"émotion\",\n",
    "       \"temps d''attente\" : \"temps d'attente\",\n",
    "       \"accueil\" : \"accueil / politesse\",\n",
    "       \"accueil\" : \"accueil / politesse\",\n",
    "       \"acceuil / politesse\" : \"accueil / politesse\",\n",
    "       \"accueil-politesse\" : \"accueil / politesse\",\n",
    "       \"accueil/politesse\" : \"accueil / politesse\",\n",
    "       \" accueil/politesse\" : \"accueil / politesse\",\n",
    "       \"accueil\" : \"accueil / politesse\",\n",
    "       \"problème-technique\" : \"problème technique\",\n",
    "       \"probleme technique\" : \"problème technique\",\n",
    "       \" problème technique  \" : \"problème technique\",\n",
    "       \"acceuil\" : \"accueil / politesse\",\n",
    "       \"accueil\" : \"accueil / politesse\",\n",
    "       \"accueil \" : \"accueil / politesse\",\n",
    "       \"motion\" : \"émotion\",\n",
    "       \"cadre/atmosphère\" : \"cadre / atmosphère\",\n",
    "       \"cadre-atmosphère\" : \"cadre / atmosphère\",\n",
    "       \"cadre\" : \"cadre / atmosphère\",\n",
    "       \"cadre / atmosphere\" : \"cadre / atmosphère\",\n",
    "       \"cadre / atmosphere \" : \"cadre / atmosphère\",\n",
    "       \"relation commerciale\" : \"relation commercial\",\n",
    "       \"changement d’opérateur / départ boutique\" : \"changement d'opérateur\",\n",
    "       \"'changement d''opérateur'\" : \"changement d'opérateur\",\n",
    "       \"changement-opérateur\" : \"changement d'opérateur\",\n",
    "       \" accueil politesse\" : \"accueil / politesse\",\n",
    "       \" emotion/ressenti\" : \"émotion\",\n",
    "       \"conseil\" : \"relation commercial\",\n",
    "       \"mauvais service client\" : \"relation commercial\",\n",
    "       \"cadre / atmosphere\" : \"cadre / atmosphère\"}"
   ]
  },
  {
   "cell_type": "code",
   "execution_count": 66,
   "metadata": {},
   "outputs": [],
   "source": [
    "df.replace({\"1\": di}, inplace=True)"
   ]
  },
  {
   "cell_type": "markdown",
   "metadata": {},
   "source": [
    "## Nombre de commentaires par classe"
   ]
  },
  {
   "cell_type": "code",
   "execution_count": 8,
   "metadata": {},
   "outputs": [
    {
     "data": {
      "text/plain": [
       "accueil / politesse       152\n",
       "émotion                    92\n",
       "relation commercial        79\n",
       "temps d'attente            73\n",
       "cadre / atmosphère         40\n",
       "problème technique         37\n",
       "changement d'opérateur      8\n",
       "Name: 1, dtype: int64"
      ]
     },
     "execution_count": 8,
     "metadata": {},
     "output_type": "execute_result"
    }
   ],
   "source": [
    "#calculer la taille des classes\n",
    "df['1'].value_counts()"
   ]
  },
  {
   "cell_type": "markdown",
   "metadata": {},
   "source": [
    "## Création de nouveau échantillon"
   ]
  },
  {
   "cell_type": "code",
   "execution_count": 9,
   "metadata": {},
   "outputs": [],
   "source": [
    "all_reviews = pd.read_csv('data/data_brut.csv', index_col = False)"
   ]
  },
  {
   "cell_type": "code",
   "execution_count": 10,
   "metadata": {
    "scrolled": true
   },
   "outputs": [
    {
     "name": "stdout",
     "output_type": "stream",
     "text": [
      "Longeur: 2641\n",
      "Pas de commentaire: 1140\n",
      "Données avec les commentaires: 1501\n"
     ]
    }
   ],
   "source": [
    "print('Longeur:', len(all_reviews.caption))\n",
    "print('Pas de commentaire:', sum(all_reviews.caption.isnull()))\n",
    "print('Données avec les commentaires:',len(all_reviews[all_reviews.caption.isnull() == False]))"
   ]
  },
  {
   "cell_type": "code",
   "execution_count": 11,
   "metadata": {},
   "outputs": [
    {
     "data": {
      "text/plain": [
       "481"
      ]
     },
     "execution_count": 11,
     "metadata": {},
     "output_type": "execute_result"
    }
   ],
   "source": [
    "#all_reviews.drop(df.index)\n",
    "len(df.index.to_list())"
   ]
  },
  {
   "cell_type": "code",
   "execution_count": 12,
   "metadata": {},
   "outputs": [],
   "source": [
    "#all_reviews.iloc[df.index]\n",
    "labeled = all_reviews.iloc[df.index]"
   ]
  },
  {
   "cell_type": "code",
   "execution_count": 13,
   "metadata": {},
   "outputs": [],
   "source": [
    "not_labeled = all_reviews.drop(labeled.index)"
   ]
  },
  {
   "cell_type": "code",
   "execution_count": 14,
   "metadata": {},
   "outputs": [],
   "source": [
    "not_labeled = not_labeled[not_labeled.caption.isnull() == False]"
   ]
  },
  {
   "cell_type": "code",
   "execution_count": 15,
   "metadata": {},
   "outputs": [
    {
     "data": {
      "text/plain": [
       "1020"
      ]
     },
     "execution_count": 15,
     "metadata": {},
     "output_type": "execute_result"
    }
   ],
   "source": [
    "len(not_labeled)"
   ]
  },
  {
   "cell_type": "code",
   "execution_count": 16,
   "metadata": {},
   "outputs": [],
   "source": [
    "sample = not_labeled.sample(n=300)"
   ]
  },
  {
   "cell_type": "code",
   "execution_count": 17,
   "metadata": {},
   "outputs": [],
   "source": [
    "sample.to_csv('aditional_sample.csv')"
   ]
  },
  {
   "cell_type": "markdown",
   "metadata": {},
   "source": [
    "## Ajout de nouveaux labels"
   ]
  },
  {
   "cell_type": "code",
   "execution_count": 67,
   "metadata": {},
   "outputs": [],
   "source": [
    "new_sample = pd.read_csv('aditional_sample_labeled.csv', index_col = 0, encoding = 'UTF-8')"
   ]
  },
  {
   "cell_type": "code",
   "execution_count": 68,
   "metadata": {},
   "outputs": [],
   "source": [
    "new_sample = new_sample[['caption','label']]"
   ]
  },
  {
   "cell_type": "code",
   "execution_count": 69,
   "metadata": {},
   "outputs": [],
   "source": [
    "new_sample = new_sample[new_sample.columns[::-1]]"
   ]
  },
  {
   "cell_type": "code",
   "execution_count": 70,
   "metadata": {},
   "outputs": [],
   "source": [
    "new_sample.columns = ['label', 'review']"
   ]
  },
  {
   "cell_type": "markdown",
   "metadata": {},
   "source": [
    "### Merge two datasets"
   ]
  },
  {
   "cell_type": "code",
   "execution_count": 72,
   "metadata": {},
   "outputs": [],
   "source": [
    "df = pd.concat([df,new_sample])"
   ]
  },
  {
   "cell_type": "code",
   "execution_count": 73,
   "metadata": {},
   "outputs": [],
   "source": [
    "df.dropna(inplace=True)"
   ]
  },
  {
   "cell_type": "code",
   "execution_count": 74,
   "metadata": {},
   "outputs": [],
   "source": [
    "df.replace({\"label\": di}, inplace=True)"
   ]
  },
  {
   "cell_type": "code",
   "execution_count": 75,
   "metadata": {},
   "outputs": [
    {
     "data": {
      "text/plain": [
       "accueil / politesse       219\n",
       "relation commercial       133\n",
       "émotion                   131\n",
       "temps d'attente           101\n",
       "cadre / atmosphère         65\n",
       "problème technique         58\n",
       "changement d'opérateur      8\n",
       "Name: label, dtype: int64"
      ]
     },
     "execution_count": 75,
     "metadata": {},
     "output_type": "execute_result"
    }
   ],
   "source": [
    "#calculer la taille des classes\n",
    "df['label'].value_counts()"
   ]
  },
  {
   "cell_type": "markdown",
   "metadata": {},
   "source": [
    "### Creation of the first labeled dataset"
   ]
  },
  {
   "cell_type": "code",
   "execution_count": 76,
   "metadata": {},
   "outputs": [],
   "source": [
    "#suppresion de la catégorie \"changement d'opérateur\"\n",
    "df = df[df.label != \"changement d'opérateur\"]"
   ]
  },
  {
   "cell_type": "code",
   "execution_count": 77,
   "metadata": {},
   "outputs": [
    {
     "data": {
      "text/plain": [
       "accueil / politesse    219\n",
       "relation commercial    133\n",
       "émotion                131\n",
       "temps d'attente        101\n",
       "cadre / atmosphère      65\n",
       "problème technique      58\n",
       "Name: label, dtype: int64"
      ]
     },
     "execution_count": 77,
     "metadata": {},
     "output_type": "execute_result"
    }
   ],
   "source": [
    "df['label'].value_counts()"
   ]
  },
  {
   "cell_type": "code",
   "execution_count": 79,
   "metadata": {},
   "outputs": [],
   "source": [
    "train_data = df.groupby('label').apply(lambda x: x.sample(n=50))"
   ]
  },
  {
   "cell_type": "code",
   "execution_count": 80,
   "metadata": {},
   "outputs": [],
   "source": [
    "train_data.to_csv('data/train.csv')"
   ]
  }
 ],
 "metadata": {
  "kernelspec": {
   "display_name": "Python 3",
   "language": "python",
   "name": "python3"
  },
  "language_info": {
   "codemirror_mode": {
    "name": "ipython",
    "version": 3
   },
   "file_extension": ".py",
   "mimetype": "text/x-python",
   "name": "python",
   "nbconvert_exporter": "python",
   "pygments_lexer": "ipython3",
   "version": "3.7.3"
  }
 },
 "nbformat": 4,
 "nbformat_minor": 2
}
