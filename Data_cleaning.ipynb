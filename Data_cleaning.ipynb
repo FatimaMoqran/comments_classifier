{
 "cells": [
  {
   "cell_type": "code",
   "execution_count": 1,
   "metadata": {},
   "outputs": [],
   "source": [
    "import pandas as pd"
   ]
  },
  {
   "cell_type": "code",
   "execution_count": 5,
   "metadata": {},
   "outputs": [],
   "source": [
    "df = pd.read_csv('data/all_comments.csv', index_col = 0)"
   ]
  },
  {
   "cell_type": "code",
   "execution_count": null,
   "metadata": {},
   "outputs": [],
   "source": [
    "#transformer les labels en 'category'\n",
    "df['1'] = df['1'].astype('category')"
   ]
  },
  {
   "cell_type": "code",
   "execution_count": 118,
   "metadata": {},
   "outputs": [],
   "source": [
    "di2 = {'temps d''attente' : \"temps d'attente\",\n",
    "       \"temps d' attente\" : \"temps d'attente\",\n",
    "       \"temps d'attente n\" : \"temps d'attente\",\n",
    "       \" temps attente\" : \"temps d'attente\",\n",
    "       \"'temps d''attente'\" : \"temps d'attente\",\n",
    "       \"temps d’attente\" : \"temps d'attente\",\n",
    "       \"temps d'attente \" : \"temps d'attente\",\n",
    "       \"temps-attente\" : \"temps d'attente\",\n",
    "       \"relation commerciale\" : \"relation commercial\",\n",
    "       \"relation-commerciale\" : \"relation commercial\",\n",
    "       \" relation commerciale\" : \"relation commercial\",\n",
    "       \"relation commerciale \" : \"relation commercial\",\n",
    "       \"emotion\" : \"émotion\",\n",
    "       \"emotion \": \"émotion\",\n",
    "       \"emotion/ressenti\" : \"émotion\",                         \n",
    "       \"emotion / ressenti\" : \"émotion\",\n",
    "       \"emotion-ressenti\" : \"émotion\",\n",
    "       \"temps d''attente\" : \"temps d'attente\",\n",
    "       \"accueil\" : \"accueil / politesse\",\n",
    "       \"accueil\" : \"accueil / politesse\",\n",
    "       \"acceuil / politesse\" : \"accueil / politesse\",\n",
    "       \"accueil-politesse\" : \"accueil / politesse\",\n",
    "       \"accueil/politesse\" : \"accueil / politesse\",\n",
    "       \" accueil/politesse\" : \"accueil / politesse\",\n",
    "       \"accueil\" : \"accueil / politesse\",\n",
    "       \"problème-technique\" : \"problème technique\",\n",
    "       \"probleme technique\" : \"problème technique\",\n",
    "       \" problème technique  \" : \"problème technique\",\n",
    "       \"acceuil\" : \"accueil / politesse\",\n",
    "       \"accueil\" : \"accueil / politesse\",\n",
    "       \"accueil \" : \"accueil / politesse\",\n",
    "       \"motion\" : \"émotion\",\n",
    "       \"cadre/atmosphère\" : \"cadre / atmosphère\",\n",
    "       \"cadre-atmosphère\" : \"cadre / atmosphère\",\n",
    "       \"cadre\" : \"cadre / atmosphère\",\n",
    "       \"cadre / atmosphere\" : \"cadre / atmosphère\",\n",
    "       \"cadre / atmosphere \" : \"cadre / atmosphère\",\n",
    "       \"relation commerciale\" : \"relation commercial\",\n",
    "       \"changement d’opérateur / départ boutique\" : \"changement d'opérateur\",\n",
    "       \"'changement d''opérateur'\" : \"changement d'opérateur\",\n",
    "       \"changement-opérateur\" : \"changement d'opérateur\",\n",
    "       \" accueil politesse\" : \"accueil / politesse\",\n",
    "       \" emotion/ressenti\" : \"émotion\",\n",
    "       \"conseil\" : \"relation commercial\",\n",
    "       \"mauvais service client\" : \"relation commercial\",\n",
    "       \"cadre / atmosphere\" : \"cadre / atmosphère\"}"
   ]
  },
  {
   "cell_type": "code",
   "execution_count": 119,
   "metadata": {},
   "outputs": [],
   "source": [
    "df.replace({\"1\": di2}, inplace=True)"
   ]
  },
  {
   "cell_type": "code",
   "execution_count": 121,
   "metadata": {},
   "outputs": [
    {
     "data": {
      "text/plain": [
       "accueil / politesse       197\n",
       "émotion                    99\n",
       "relation commercial        97\n",
       "temps d'attente            87\n",
       "cadre / atmosphère         45\n",
       "problème technique         42\n",
       "changement d'opérateur      9\n",
       "Name: 1, dtype: int64"
      ]
     },
     "execution_count": 121,
     "metadata": {},
     "output_type": "execute_result"
    }
   ],
   "source": [
    "#calculer la taille des classes\n",
    "df['1'].value_counts()"
   ]
  }
 ],
 "metadata": {
  "kernelspec": {
   "display_name": "Python 3",
   "language": "python",
   "name": "python3"
  },
  "language_info": {
   "codemirror_mode": {
    "name": "ipython",
    "version": 3
   },
   "file_extension": ".py",
   "mimetype": "text/x-python",
   "name": "python",
   "nbconvert_exporter": "python",
   "pygments_lexer": "ipython3",
   "version": "3.7.3"
  }
 },
 "nbformat": 4,
 "nbformat_minor": 2
}
