{
 "cells": [
  {
   "cell_type": "code",
   "execution_count": 164,
   "metadata": {},
   "outputs": [],
   "source": [
    "import pandas as pd"
   ]
  },
  {
   "cell_type": "code",
   "execution_count": 165,
   "metadata": {},
   "outputs": [],
   "source": [
    "df = pd.read_csv('data/all_comments.csv', index_col = 1)"
   ]
  },
  {
   "cell_type": "code",
   "execution_count": 166,
   "metadata": {},
   "outputs": [],
   "source": [
    "df.drop(['Unnamed: 0'], axis = 1, inplace = True)"
   ]
  },
  {
   "cell_type": "code",
   "execution_count": 167,
   "metadata": {},
   "outputs": [],
   "source": [
    "df.dropna(inplace=True)"
   ]
  },
  {
   "cell_type": "code",
   "execution_count": 168,
   "metadata": {},
   "outputs": [],
   "source": [
    "df.drop(['relation commerciale','accueil'], inplace=True)"
   ]
  },
  {
   "cell_type": "markdown",
   "metadata": {},
   "source": [
    "## Data cleaning"
   ]
  },
  {
   "cell_type": "code",
   "execution_count": 169,
   "metadata": {},
   "outputs": [],
   "source": [
    "di  = {'temps d''attente' : \"temps d'attente\",\n",
    "       \"temps d' attente\" : \"temps d'attente\",\n",
    "       \"temps d'attente n\" : \"temps d'attente\",\n",
    "       \" temps attente\" : \"temps d'attente\",\n",
    "       \"'temps d''attente'\" : \"temps d'attente\",\n",
    "       \"temps d’attente\" : \"temps d'attente\",\n",
    "       \"temps d'attente \" : \"temps d'attente\",\n",
    "       \"temps-attente\" : \"temps d'attente\",\n",
    "       \"relation commerciale\" : \"relation commercial\",\n",
    "       \"relation-commerciale\" : \"relation commercial\",\n",
    "       \" relation commerciale\" : \"relation commercial\",\n",
    "       \"relation commerciale \" : \"relation commercial\",\n",
    "       \"emotion\" : \"émotion\",\n",
    "       \"emotion \": \"émotion\",\n",
    "       \"emotion/ressenti\" : \"émotion\",                         \n",
    "       \"emotion / ressenti\" : \"émotion\",\n",
    "       \"emotion-ressenti\" : \"émotion\",\n",
    "       \"temps d''attente\" : \"temps d'attente\",\n",
    "       \"accueil\" : \"accueil / politesse\",\n",
    "       \"accueil\" : \"accueil / politesse\",\n",
    "       \"acceuil / politesse\" : \"accueil / politesse\",\n",
    "       \"accueil-politesse\" : \"accueil / politesse\",\n",
    "       \"accueil/politesse\" : \"accueil / politesse\",\n",
    "       \" accueil/politesse\" : \"accueil / politesse\",\n",
    "       \"accueil\" : \"accueil / politesse\",\n",
    "       \"problème-technique\" : \"problème technique\",\n",
    "       \"probleme technique\" : \"problème technique\",\n",
    "       \" problème technique  \" : \"problème technique\",\n",
    "       \"acceuil\" : \"accueil / politesse\",\n",
    "       \"accueil\" : \"accueil / politesse\",\n",
    "       \"accueil \" : \"accueil / politesse\",\n",
    "       \"motion\" : \"émotion\",\n",
    "       \"cadre/atmosphère\" : \"cadre / atmosphère\",\n",
    "       \"cadre-atmosphère\" : \"cadre / atmosphère\",\n",
    "       \"cadre\" : \"cadre / atmosphère\",\n",
    "       \"cadre / atmosphere\" : \"cadre / atmosphère\",\n",
    "       \"cadre / atmosphere \" : \"cadre / atmosphère\",\n",
    "       \"relation commerciale\" : \"relation commercial\",\n",
    "       \"changement d’opérateur / départ boutique\" : \"changement d'opérateur\",\n",
    "       \"'changement d''opérateur'\" : \"changement d'opérateur\",\n",
    "       \"changement-opérateur\" : \"changement d'opérateur\",\n",
    "       \" accueil politesse\" : \"accueil / politesse\",\n",
    "       \" emotion/ressenti\" : \"émotion\",\n",
    "       \"conseil\" : \"relation commercial\",\n",
    "       \"mauvais service client\" : \"relation commercial\",\n",
    "       \"cadre / atmosphere\" : \"cadre / atmosphère\"}"
   ]
  },
  {
   "cell_type": "code",
   "execution_count": 170,
   "metadata": {},
   "outputs": [],
   "source": [
    "df.replace({\"1\": di}, inplace=True)"
   ]
  },
  {
   "cell_type": "markdown",
   "metadata": {},
   "source": [
    "## Nombre de commentaires par classe"
   ]
  },
  {
   "cell_type": "code",
   "execution_count": 171,
   "metadata": {},
   "outputs": [
    {
     "data": {
      "text/plain": [
       "accueil / politesse       152\n",
       "émotion                    92\n",
       "relation commercial        79\n",
       "temps d'attente            73\n",
       "cadre / atmosphère         40\n",
       "problème technique         37\n",
       "changement d'opérateur      8\n",
       "Name: 1, dtype: int64"
      ]
     },
     "execution_count": 171,
     "metadata": {},
     "output_type": "execute_result"
    }
   ],
   "source": [
    "#calculer la taille des classes\n",
    "df['1'].value_counts()"
   ]
  },
  {
   "cell_type": "markdown",
   "metadata": {},
   "source": [
    "## Ajouter les nouveaux commentaires"
   ]
  },
  {
   "cell_type": "code",
   "execution_count": 177,
   "metadata": {},
   "outputs": [],
   "source": [
    "all_reviews = pd.read_csv('../Code_scraping/Data/reviews_orange.csv', index_col = False)"
   ]
  },
  {
   "cell_type": "code",
   "execution_count": 178,
   "metadata": {},
   "outputs": [
    {
     "name": "stdout",
     "output_type": "stream",
     "text": [
      "Longeur: 2641\n",
      "Pas de commentaire: 1140\n",
      "Données avec les commentaires: 1501\n"
     ]
    }
   ],
   "source": [
    "print('Longeur:', len(all_reviews.caption))\n",
    "print('Pas de commentaire:', sum(all_reviews.caption.isnull()))\n",
    "print('Données avec les commentaires:',len(all_reviews[all_reviews.caption.isnull() == False]))"
   ]
  },
  {
   "cell_type": "code",
   "execution_count": 175,
   "metadata": {},
   "outputs": [
    {
     "data": {
      "text/plain": [
       "481"
      ]
     },
     "execution_count": 175,
     "metadata": {},
     "output_type": "execute_result"
    }
   ],
   "source": [
    "#all_reviews.drop(df.index)\n",
    "len(df.index.to_list())"
   ]
  },
  {
   "cell_type": "code",
   "execution_count": 179,
   "metadata": {},
   "outputs": [],
   "source": [
    "#all_reviews.iloc[df.index]\n",
    "labeled = all_reviews.iloc[df.index]"
   ]
  },
  {
   "cell_type": "code",
   "execution_count": 180,
   "metadata": {},
   "outputs": [],
   "source": [
    "not_labeled = all_reviews.drop(labeled.index)"
   ]
  },
  {
   "cell_type": "code",
   "execution_count": 181,
   "metadata": {},
   "outputs": [],
   "source": [
    "not_labeled = not_labeled[not_labeled.caption.isnull() == False]"
   ]
  },
  {
   "cell_type": "code",
   "execution_count": 183,
   "metadata": {},
   "outputs": [
    {
     "data": {
      "text/plain": [
       "1020"
      ]
     },
     "execution_count": 183,
     "metadata": {},
     "output_type": "execute_result"
    }
   ],
   "source": [
    "len(not_labeled)"
   ]
  },
  {
   "cell_type": "code",
   "execution_count": 184,
   "metadata": {},
   "outputs": [],
   "source": [
    "sample = not_labeled.sample(n=300)"
   ]
  },
  {
   "cell_type": "code",
   "execution_count": 187,
   "metadata": {},
   "outputs": [],
   "source": [
    "sample.to_csv('aditional_sample.csv')"
   ]
  }
 ],
 "metadata": {
  "kernelspec": {
   "display_name": "Python 3",
   "language": "python",
   "name": "python3"
  },
  "language_info": {
   "codemirror_mode": {
    "name": "ipython",
    "version": 3
   },
   "file_extension": ".py",
   "mimetype": "text/x-python",
   "name": "python",
   "nbconvert_exporter": "python",
   "pygments_lexer": "ipython3",
   "version": "3.7.3"
  }
 },
 "nbformat": 4,
 "nbformat_minor": 2
}
